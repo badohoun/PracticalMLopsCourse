{
 "cells": [
  {
   "cell_type": "code",
   "execution_count": 8,
   "metadata": {},
   "outputs": [],
   "source": [
    "#EDA pkg \n",
    "import polars as pl \n",
    "import pandas as pd \n",
    "import numpy as np \n",
    "import matplotlib.pyplot as plt \n",
    "import seaborn as sns   \n",
    "import pyarrow\n",
    "from pathlib import Path\n",
    "# ML pkg \n",
    "\n",
    "from sklearn.naive_bayes import MultinomialNB\n",
    "from sklearn.linear_model import LogisticRegression\n",
    "from sklearn.ensemble import RandomForestClassifier\n",
    "from sklearn.model_selection import train_test_split,cross_val_score\n",
    "from sklearn.metrics import accuracy_score"
   ]
  },
  {
   "cell_type": "code",
   "execution_count": 4,
   "metadata": {},
   "outputs": [],
   "source": [
    "ADULT_DATA_SALARY_CSV_PATH : str = './data' + '/adult_data_salary.csv'"
   ]
  },
  {
   "cell_type": "code",
   "execution_count": 9,
   "metadata": {},
   "outputs": [],
   "source": [
    "column_names = [\"age\",\"workclass\",\"fnlwgt\",\"education\",\"education-num\",\"marital-status\",\"occupation\",\"relationship\",\"race\",\"sex\",\"capital-gain\",\"capital-loss\",\"hours-per-week\",\"native-country\",\"class\"]"
   ]
  },
  {
   "cell_type": "code",
   "execution_count": 10,
   "metadata": {},
   "outputs": [
    {
     "data": {
      "text/html": [
       "<div>\n",
       "<style scoped>\n",
       "    .dataframe tbody tr th:only-of-type {\n",
       "        vertical-align: middle;\n",
       "    }\n",
       "\n",
       "    .dataframe tbody tr th {\n",
       "        vertical-align: top;\n",
       "    }\n",
       "\n",
       "    .dataframe thead th {\n",
       "        text-align: right;\n",
       "    }\n",
       "</style>\n",
       "<table border=\"1\" class=\"dataframe\">\n",
       "  <thead>\n",
       "    <tr style=\"text-align: right;\">\n",
       "      <th></th>\n",
       "      <th>age</th>\n",
       "      <th>workclass</th>\n",
       "      <th>fnlwgt</th>\n",
       "      <th>education</th>\n",
       "      <th>education-num</th>\n",
       "      <th>marital-status</th>\n",
       "      <th>occupation</th>\n",
       "      <th>relationship</th>\n",
       "      <th>race</th>\n",
       "      <th>sex</th>\n",
       "      <th>capital-gain</th>\n",
       "      <th>capital-loss</th>\n",
       "      <th>hours-per-week</th>\n",
       "      <th>native-country</th>\n",
       "      <th>class</th>\n",
       "    </tr>\n",
       "  </thead>\n",
       "  <tbody>\n",
       "    <tr>\n",
       "      <th>NaN</th>\n",
       "      <td>age</td>\n",
       "      <td>workclass</td>\n",
       "      <td>fnlwgt</td>\n",
       "      <td>education</td>\n",
       "      <td>education-num</td>\n",
       "      <td>marital-status</td>\n",
       "      <td>occupation</td>\n",
       "      <td>relationship</td>\n",
       "      <td>race</td>\n",
       "      <td>sex</td>\n",
       "      <td>capital-gain</td>\n",
       "      <td>capital-loss</td>\n",
       "      <td>hours-per-week</td>\n",
       "      <td>native-country</td>\n",
       "      <td>class</td>\n",
       "    </tr>\n",
       "    <tr>\n",
       "      <th>0.0</th>\n",
       "      <td>39</td>\n",
       "      <td>State-gov</td>\n",
       "      <td>77516</td>\n",
       "      <td>Bachelors</td>\n",
       "      <td>13</td>\n",
       "      <td>Never-married</td>\n",
       "      <td>Adm-clerical</td>\n",
       "      <td>Not-in-family</td>\n",
       "      <td>White</td>\n",
       "      <td>Male</td>\n",
       "      <td>2174</td>\n",
       "      <td>0</td>\n",
       "      <td>40</td>\n",
       "      <td>United-States</td>\n",
       "      <td>&lt;=50K</td>\n",
       "    </tr>\n",
       "    <tr>\n",
       "      <th>1.0</th>\n",
       "      <td>50</td>\n",
       "      <td>Self-emp-not-inc</td>\n",
       "      <td>83311</td>\n",
       "      <td>Bachelors</td>\n",
       "      <td>13</td>\n",
       "      <td>Married-civ-spouse</td>\n",
       "      <td>Exec-managerial</td>\n",
       "      <td>Husband</td>\n",
       "      <td>White</td>\n",
       "      <td>Male</td>\n",
       "      <td>0</td>\n",
       "      <td>0</td>\n",
       "      <td>13</td>\n",
       "      <td>United-States</td>\n",
       "      <td>&lt;=50K</td>\n",
       "    </tr>\n",
       "    <tr>\n",
       "      <th>2.0</th>\n",
       "      <td>38</td>\n",
       "      <td>Private</td>\n",
       "      <td>215646</td>\n",
       "      <td>HS-grad</td>\n",
       "      <td>9</td>\n",
       "      <td>Divorced</td>\n",
       "      <td>Handlers-cleaners</td>\n",
       "      <td>Not-in-family</td>\n",
       "      <td>White</td>\n",
       "      <td>Male</td>\n",
       "      <td>0</td>\n",
       "      <td>0</td>\n",
       "      <td>40</td>\n",
       "      <td>United-States</td>\n",
       "      <td>&lt;=50K</td>\n",
       "    </tr>\n",
       "    <tr>\n",
       "      <th>3.0</th>\n",
       "      <td>53</td>\n",
       "      <td>Private</td>\n",
       "      <td>234721</td>\n",
       "      <td>11th</td>\n",
       "      <td>7</td>\n",
       "      <td>Married-civ-spouse</td>\n",
       "      <td>Handlers-cleaners</td>\n",
       "      <td>Husband</td>\n",
       "      <td>Black</td>\n",
       "      <td>Male</td>\n",
       "      <td>0</td>\n",
       "      <td>0</td>\n",
       "      <td>40</td>\n",
       "      <td>United-States</td>\n",
       "      <td>&lt;=50K</td>\n",
       "    </tr>\n",
       "  </tbody>\n",
       "</table>\n",
       "</div>"
      ],
      "text/plain": [
       "     age          workclass  fnlwgt   education  education-num  \\\n",
       "NaN  age          workclass  fnlwgt   education  education-num   \n",
       "0.0   39          State-gov   77516   Bachelors             13   \n",
       "1.0   50   Self-emp-not-inc   83311   Bachelors             13   \n",
       "2.0   38            Private  215646     HS-grad              9   \n",
       "3.0   53            Private  234721        11th              7   \n",
       "\n",
       "          marital-status          occupation    relationship    race    sex  \\\n",
       "NaN       marital-status          occupation    relationship    race    sex   \n",
       "0.0        Never-married        Adm-clerical   Not-in-family   White   Male   \n",
       "1.0   Married-civ-spouse     Exec-managerial         Husband   White   Male   \n",
       "2.0             Divorced   Handlers-cleaners   Not-in-family   White   Male   \n",
       "3.0   Married-civ-spouse   Handlers-cleaners         Husband   Black   Male   \n",
       "\n",
       "     capital-gain  capital-loss  hours-per-week  native-country   class  \n",
       "NaN  capital-gain  capital-loss  hours-per-week  native-country   class  \n",
       "0.0          2174             0              40   United-States   <=50K  \n",
       "1.0             0             0              13   United-States   <=50K  \n",
       "2.0             0             0              40   United-States   <=50K  \n",
       "3.0             0             0              40   United-States   <=50K  "
      ]
     },
     "execution_count": 10,
     "metadata": {},
     "output_type": "execute_result"
    }
   ],
   "source": [
    "# Load Dataset\n",
    "data = pd.read_csv(ADULT_DATA_SALARY_CSV_PATH,names=column_names)\n",
    "data.head()"
   ]
  },
  {
   "cell_type": "code",
   "execution_count": 11,
   "metadata": {},
   "outputs": [],
   "source": [
    "df = data.copy()"
   ]
  },
  {
   "cell_type": "markdown",
   "metadata": {},
   "source": [
    "#### Besoin de convertir les variables  numériques en  variables catégorielles   "
   ]
  },
  {
   "cell_type": "code",
   "execution_count": 12,
   "metadata": {},
   "outputs": [
    {
     "data": {
      "text/plain": [
       "age               object\n",
       "workclass         object\n",
       "fnlwgt            object\n",
       "education         object\n",
       "education-num     object\n",
       "marital-status    object\n",
       "occupation        object\n",
       "relationship      object\n",
       "race              object\n",
       "sex               object\n",
       "capital-gain      object\n",
       "capital-loss      object\n",
       "hours-per-week    object\n",
       "native-country    object\n",
       "class             object\n",
       "dtype: object"
      ]
     },
     "execution_count": 12,
     "metadata": {},
     "output_type": "execute_result"
    }
   ],
   "source": [
    "# Rechercher toutes les  Colonnes de type Object \n",
    "df.dtypes[df.dtypes == 'object']"
   ]
  },
  {
   "cell_type": "code",
   "execution_count": 13,
   "metadata": {},
   "outputs": [
    {
     "data": {
      "text/plain": [
       "array(['workclass', ' State-gov', ' Self-emp-not-inc', ' Private',\n",
       "       ' Federal-gov', ' Local-gov', ' ?', ' Self-emp-inc',\n",
       "       ' Without-pay', ' Never-worked'], dtype=object)"
      ]
     },
     "execution_count": 13,
     "metadata": {},
     "output_type": "execute_result"
    }
   ],
   "source": [
    "df['workclass'].unique()"
   ]
  },
  {
   "cell_type": "markdown",
   "metadata": {},
   "source": [
    "# Structures de données en python \n",
    "\n",
    "        - Tuple\n",
    "        - Liste\n",
    "        - Dictionnaire\n",
    "        - Set "
   ]
  },
  {
   "cell_type": "markdown",
   "metadata": {},
   "source": [
    "* Tuple : Collection ordonnée d'éléments enfermés dans ()\n",
    "* Les tuples sont immuables, vous ne pouvez pas modifier la valeur à l'intérieur du tuple \n",
    "* mélange hétérogène de différents éléments \n",
    "  \n",
    "    "
   ]
  },
  {
   "cell_type": "code",
   "execution_count": 31,
   "metadata": {},
   "outputs": [
    {
     "data": {
      "text/plain": [
       "5"
      ]
     },
     "execution_count": 31,
     "metadata": {},
     "output_type": "execute_result"
    }
   ],
   "source": [
    "# tuple \n",
    "tup1 = (100, \"b\", True, \"c\" , False)\n",
    "type(tup1)\n",
    "\n",
    "\n",
    "# Extract Individual elements \n",
    "\n",
    "tup1[0]\n",
    "tup1[1]\n",
    "tup1[-1]\n",
    "tup1[1:3]\n",
    "#tup1[2] = \"hello\" # les tuples sont immuables et donc l'erreur vient de là  vous ne pouvez pas modifier la valeur à l'intérieur du tuple \n",
    "\n",
    "\n",
    "# Finding length of tuple \n",
    "\n",
    "tup1 = (100,\"b\" , True, \"c\" , False)\n",
    "len(tup1)\n",
    "\n",
    "# concatening tuples \n",
    "tup1 = (1,2,3)\n",
    "tup2 = (4,5,6)\n",
    "tup1 + tup2 \n",
    "\n",
    "\n",
    "# Repeating Tuple elements \n",
    "tup1 = (\"pooda\", 300)\n",
    "tup1*3\n",
    "\n",
    "\n",
    "# Repeating and concatenating\n",
    "tup1=(\"pooda\" , 300)\n",
    "tup2=(4,5,6)\n",
    "tup1*3+tup2\n",
    "\n",
    "\n",
    "# Tuple Functions\n",
    "\n",
    "\n",
    "   ##minimum value\n",
    "tup1 = (1,2,3,4,5)\n",
    "min(tup1)\n",
    "\n",
    "\n",
    "   ##maximum value\n",
    "tup1 = (1,2,3,4,5)\n",
    "max(tup1)"
   ]
  },
  {
   "cell_type": "markdown",
   "metadata": {},
   "source": [
    "* List : Collection ordonnée d'éléments enfermés dans []\n",
    "* Les list sont muables, \n",
    "On peut ajouter , soustraire et multiplier des valeurs  à l'intérieur de la liste "
   ]
  },
  {
   "cell_type": "code",
   "execution_count": 37,
   "metadata": {},
   "outputs": [
    {
     "data": {
      "text/plain": [
       "['pooda', 3.14, True]"
      ]
     },
     "execution_count": 37,
     "metadata": {},
     "output_type": "execute_result"
    }
   ],
   "source": [
    "L1 = [1, \"pooda\" , 3.14, True, 5+9j] \n",
    "type(L1)\n",
    "\n",
    "# Extracting individual elements \n",
    "\n",
    "L1[-1] \n",
    "L1[1:4] "
   ]
  },
  {
   "cell_type": "code",
   "execution_count": null,
   "metadata": {},
   "outputs": [],
   "source": [
    "# d = {ni: indi for indi, ni in enumerate(set(names))}\n",
    "d = {v: k for k, v in enumerate(set(df['workclass'].unique()))}"
   ]
  }
 ],
 "metadata": {
  "kernelspec": {
   "display_name": "venv",
   "language": "python",
   "name": "python3"
  },
  "language_info": {
   "codemirror_mode": {
    "name": "ipython",
    "version": 3
   },
   "file_extension": ".py",
   "mimetype": "text/x-python",
   "name": "python",
   "nbconvert_exporter": "python",
   "pygments_lexer": "ipython3",
   "version": "3.11.7"
  }
 },
 "nbformat": 4,
 "nbformat_minor": 2
}
