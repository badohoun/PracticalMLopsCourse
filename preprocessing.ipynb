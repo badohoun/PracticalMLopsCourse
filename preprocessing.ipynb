{
 "cells": [
  {
   "cell_type": "markdown",
   "metadata": {},
   "source": [
    "# Packages "
   ]
  },
  {
   "cell_type": "code",
   "execution_count": 8,
   "metadata": {},
   "outputs": [],
   "source": [
    "#preprocessing pkg \n",
    "import polars as pl \n",
    "import pandas as pd \n",
    "import numpy as np \n",
    "from pathlib import Path\n"
   ]
  },
  {
   "cell_type": "markdown",
   "metadata": {},
   "source": [
    "# Variables "
   ]
  },
  {
   "cell_type": "code",
   "execution_count": 4,
   "metadata": {},
   "outputs": [],
   "source": [
    "ADULT_DATA_SALARY_CSV_PATH : str = './data' + '/adult_data_salary.csv'\n",
    "ADULT_DATA_SALARY_PREPROCESSED_CSV_PATH : str = './preprocessed_data' + 'adult_data_salary_preprocessed.csv'"
   ]
  },
  {
   "cell_type": "markdown",
   "metadata": {},
   "source": [
    "# Preprocessing "
   ]
  },
  {
   "cell_type": "code",
   "execution_count": 9,
   "metadata": {},
   "outputs": [],
   "source": [
    "column_names = [\"age\",\"workclass\",\"fnlwgt\",\"education\",\"education-num\",\"marital-status\",\"occupation\",\"relationship\",\"race\",\"sex\",\"capital-gain\",\"capital-loss\",\"hours-per-week\",\"native-country\",\"class\"]"
   ]
  },
  {
   "cell_type": "code",
   "execution_count": 10,
   "metadata": {},
   "outputs": [
    {
     "data": {
      "text/html": [
       "<div>\n",
       "<style scoped>\n",
       "    .dataframe tbody tr th:only-of-type {\n",
       "        vertical-align: middle;\n",
       "    }\n",
       "\n",
       "    .dataframe tbody tr th {\n",
       "        vertical-align: top;\n",
       "    }\n",
       "\n",
       "    .dataframe thead th {\n",
       "        text-align: right;\n",
       "    }\n",
       "</style>\n",
       "<table border=\"1\" class=\"dataframe\">\n",
       "  <thead>\n",
       "    <tr style=\"text-align: right;\">\n",
       "      <th></th>\n",
       "      <th>age</th>\n",
       "      <th>workclass</th>\n",
       "      <th>fnlwgt</th>\n",
       "      <th>education</th>\n",
       "      <th>education-num</th>\n",
       "      <th>marital-status</th>\n",
       "      <th>occupation</th>\n",
       "      <th>relationship</th>\n",
       "      <th>race</th>\n",
       "      <th>sex</th>\n",
       "      <th>capital-gain</th>\n",
       "      <th>capital-loss</th>\n",
       "      <th>hours-per-week</th>\n",
       "      <th>native-country</th>\n",
       "      <th>class</th>\n",
       "    </tr>\n",
       "  </thead>\n",
       "  <tbody>\n",
       "    <tr>\n",
       "      <th>NaN</th>\n",
       "      <td>age</td>\n",
       "      <td>workclass</td>\n",
       "      <td>fnlwgt</td>\n",
       "      <td>education</td>\n",
       "      <td>education-num</td>\n",
       "      <td>marital-status</td>\n",
       "      <td>occupation</td>\n",
       "      <td>relationship</td>\n",
       "      <td>race</td>\n",
       "      <td>sex</td>\n",
       "      <td>capital-gain</td>\n",
       "      <td>capital-loss</td>\n",
       "      <td>hours-per-week</td>\n",
       "      <td>native-country</td>\n",
       "      <td>class</td>\n",
       "    </tr>\n",
       "    <tr>\n",
       "      <th>0.0</th>\n",
       "      <td>39</td>\n",
       "      <td>State-gov</td>\n",
       "      <td>77516</td>\n",
       "      <td>Bachelors</td>\n",
       "      <td>13</td>\n",
       "      <td>Never-married</td>\n",
       "      <td>Adm-clerical</td>\n",
       "      <td>Not-in-family</td>\n",
       "      <td>White</td>\n",
       "      <td>Male</td>\n",
       "      <td>2174</td>\n",
       "      <td>0</td>\n",
       "      <td>40</td>\n",
       "      <td>United-States</td>\n",
       "      <td>&lt;=50K</td>\n",
       "    </tr>\n",
       "    <tr>\n",
       "      <th>1.0</th>\n",
       "      <td>50</td>\n",
       "      <td>Self-emp-not-inc</td>\n",
       "      <td>83311</td>\n",
       "      <td>Bachelors</td>\n",
       "      <td>13</td>\n",
       "      <td>Married-civ-spouse</td>\n",
       "      <td>Exec-managerial</td>\n",
       "      <td>Husband</td>\n",
       "      <td>White</td>\n",
       "      <td>Male</td>\n",
       "      <td>0</td>\n",
       "      <td>0</td>\n",
       "      <td>13</td>\n",
       "      <td>United-States</td>\n",
       "      <td>&lt;=50K</td>\n",
       "    </tr>\n",
       "    <tr>\n",
       "      <th>2.0</th>\n",
       "      <td>38</td>\n",
       "      <td>Private</td>\n",
       "      <td>215646</td>\n",
       "      <td>HS-grad</td>\n",
       "      <td>9</td>\n",
       "      <td>Divorced</td>\n",
       "      <td>Handlers-cleaners</td>\n",
       "      <td>Not-in-family</td>\n",
       "      <td>White</td>\n",
       "      <td>Male</td>\n",
       "      <td>0</td>\n",
       "      <td>0</td>\n",
       "      <td>40</td>\n",
       "      <td>United-States</td>\n",
       "      <td>&lt;=50K</td>\n",
       "    </tr>\n",
       "    <tr>\n",
       "      <th>3.0</th>\n",
       "      <td>53</td>\n",
       "      <td>Private</td>\n",
       "      <td>234721</td>\n",
       "      <td>11th</td>\n",
       "      <td>7</td>\n",
       "      <td>Married-civ-spouse</td>\n",
       "      <td>Handlers-cleaners</td>\n",
       "      <td>Husband</td>\n",
       "      <td>Black</td>\n",
       "      <td>Male</td>\n",
       "      <td>0</td>\n",
       "      <td>0</td>\n",
       "      <td>40</td>\n",
       "      <td>United-States</td>\n",
       "      <td>&lt;=50K</td>\n",
       "    </tr>\n",
       "  </tbody>\n",
       "</table>\n",
       "</div>"
      ],
      "text/plain": [
       "     age          workclass  fnlwgt   education  education-num  \\\n",
       "NaN  age          workclass  fnlwgt   education  education-num   \n",
       "0.0   39          State-gov   77516   Bachelors             13   \n",
       "1.0   50   Self-emp-not-inc   83311   Bachelors             13   \n",
       "2.0   38            Private  215646     HS-grad              9   \n",
       "3.0   53            Private  234721        11th              7   \n",
       "\n",
       "          marital-status          occupation    relationship    race    sex  \\\n",
       "NaN       marital-status          occupation    relationship    race    sex   \n",
       "0.0        Never-married        Adm-clerical   Not-in-family   White   Male   \n",
       "1.0   Married-civ-spouse     Exec-managerial         Husband   White   Male   \n",
       "2.0             Divorced   Handlers-cleaners   Not-in-family   White   Male   \n",
       "3.0   Married-civ-spouse   Handlers-cleaners         Husband   Black   Male   \n",
       "\n",
       "     capital-gain  capital-loss  hours-per-week  native-country   class  \n",
       "NaN  capital-gain  capital-loss  hours-per-week  native-country   class  \n",
       "0.0          2174             0              40   United-States   <=50K  \n",
       "1.0             0             0              13   United-States   <=50K  \n",
       "2.0             0             0              40   United-States   <=50K  \n",
       "3.0             0             0              40   United-States   <=50K  "
      ]
     },
     "execution_count": 10,
     "metadata": {},
     "output_type": "execute_result"
    }
   ],
   "source": [
    "# Load Dataset\n",
    "data = pd.read_csv(ADULT_DATA_SALARY_CSV_PATH,names=column_names)\n",
    "data.head()"
   ]
  },
  {
   "cell_type": "code",
   "execution_count": 11,
   "metadata": {},
   "outputs": [],
   "source": [
    "df = data.copy()"
   ]
  },
  {
   "cell_type": "markdown",
   "metadata": {},
   "source": [
    "#### Besoin de convertir les variables  numériques en  variables catégorielles   "
   ]
  },
  {
   "cell_type": "code",
   "execution_count": 12,
   "metadata": {},
   "outputs": [
    {
     "data": {
      "text/plain": [
       "age               object\n",
       "workclass         object\n",
       "fnlwgt            object\n",
       "education         object\n",
       "education-num     object\n",
       "marital-status    object\n",
       "occupation        object\n",
       "relationship      object\n",
       "race              object\n",
       "sex               object\n",
       "capital-gain      object\n",
       "capital-loss      object\n",
       "hours-per-week    object\n",
       "native-country    object\n",
       "class             object\n",
       "dtype: object"
      ]
     },
     "execution_count": 12,
     "metadata": {},
     "output_type": "execute_result"
    }
   ],
   "source": [
    "# Rechercher toutes les  Colonnes de type Object \n",
    "df.dtypes[df.dtypes == 'object']"
   ]
  },
  {
   "cell_type": "code",
   "execution_count": 13,
   "metadata": {},
   "outputs": [
    {
     "data": {
      "text/plain": [
       "array(['workclass', ' State-gov', ' Self-emp-not-inc', ' Private',\n",
       "       ' Federal-gov', ' Local-gov', ' ?', ' Self-emp-inc',\n",
       "       ' Without-pay', ' Never-worked'], dtype=object)"
      ]
     },
     "execution_count": 13,
     "metadata": {},
     "output_type": "execute_result"
    }
   ],
   "source": [
    "df['workclass'].unique()"
   ]
  },
  {
   "cell_type": "markdown",
   "metadata": {},
   "source": [
    "# Reminder : Structures de données en python \n",
    "\n",
    "        - Tuple\n",
    "        - Liste\n",
    "        - Dictionnaire\n",
    "        - Set "
   ]
  },
  {
   "cell_type": "markdown",
   "metadata": {},
   "source": [
    "* Tuple : Collection ordonnée d'éléments enfermés dans ()\n",
    "* Les tuples sont immuables, vous ne pouvez pas modifier la valeur à l'intérieur du tuple \n",
    "* mélange hétérogène de différents éléments \n",
    "  \n",
    "    "
   ]
  },
  {
   "cell_type": "code",
   "execution_count": 31,
   "metadata": {},
   "outputs": [
    {
     "data": {
      "text/plain": [
       "5"
      ]
     },
     "execution_count": 31,
     "metadata": {},
     "output_type": "execute_result"
    }
   ],
   "source": [
    "# tuple \n",
    "tup1 = (100, \"b\", True, \"c\" , False)\n",
    "type(tup1)\n",
    "\n",
    "\n",
    "# Extract Individual elements \n",
    "\n",
    "tup1[0]\n",
    "tup1[1]\n",
    "tup1[-1]\n",
    "tup1[1:3]\n",
    "#tup1[2] = \"hello\" # les tuples sont immuables et donc l'erreur vient de là  vous ne pouvez pas modifier la valeur à l'intérieur du tuple \n",
    "\n",
    "\n",
    "# Finding length of tuple \n",
    "\n",
    "tup1 = (100,\"b\" , True, \"c\" , False)\n",
    "len(tup1)\n",
    "\n",
    "# concatening tuples \n",
    "tup1 = (1,2,3)\n",
    "tup2 = (4,5,6)\n",
    "tup1 + tup2 \n",
    "\n",
    "\n",
    "# Repeating Tuple elements \n",
    "tup1 = (\"pooda\", 300)\n",
    "tup1*3\n",
    "\n",
    "\n",
    "# Repeating and concatenating\n",
    "tup1=(\"pooda\" , 300)\n",
    "tup2=(4,5,6)\n",
    "tup1*3+tup2\n",
    "\n",
    "\n",
    "# Tuple Functions\n",
    "\n",
    "\n",
    "   ##minimum value\n",
    "tup1 = (1,2,3,4,5)\n",
    "min(tup1)\n",
    "\n",
    "\n",
    "   ##maximum value\n",
    "tup1 = (1,2,3,4,5)\n",
    "max(tup1)"
   ]
  },
  {
   "cell_type": "markdown",
   "metadata": {},
   "source": [
    "* List : Collection ordonnée d'éléments enfermés dans []\n",
    "* Les list sont muables, \n",
    "On peut ajouter , soustraire et multiplier des valeurs  à l'intérieur de la liste "
   ]
  },
  {
   "cell_type": "code",
   "execution_count": 50,
   "metadata": {},
   "outputs": [
    {
     "data": {
      "text/plain": [
       "[1, 'a', True, 1, 'a', True, 1, 'a', True]"
      ]
     },
     "execution_count": 50,
     "metadata": {},
     "output_type": "execute_result"
    }
   ],
   "source": [
    "L1 = [1, \"pooda\" , 3.14, True, 5+9j] \n",
    "type(L1)\n",
    "\n",
    "# Extracting individual elements \n",
    "\n",
    "L1[-1] \n",
    "L1[1:4] \n",
    "\n",
    "# Modifying a list\n",
    "   # changing the element of 0th index\n",
    "L1 = [1,\"a\",2,\"b\",3,\"c\"]\n",
    "L1[0] = 100\n",
    "L1\n",
    "   # Appending a new element \n",
    "L1=[1,\"a\" , 2 , \"b\" , 3, \"c\"]\n",
    "L1.append(\"pooda\")\n",
    "L1\n",
    "\n",
    "# Popping the last element \n",
    "L1 = [1, \"a\", 2, \"b\", 3 , \"c\"]\n",
    "L1.pop()\n",
    "L1\n",
    "\n",
    "# Reversing elements of a list\n",
    "L1 = [1, \"a\", 2, \"b\", 3 , \"c\"]\n",
    "L1.reverse()\n",
    "L1\n",
    "\n",
    "# Inserting element at a specified index \n",
    "L1 = [1,\"a\" , 2, \"b\", 3 , \"c\"]\n",
    "\n",
    "L1.insert(1, \"pooda\")\n",
    "\n",
    "# sorting a list \n",
    "\n",
    "L1 = [\"Mango\", \"cherry\" , \"banana\" , \"guava\"]\n",
    "L1.sort()\n",
    "L1\n",
    "\n",
    "# concatening lists \n",
    "L1 = [1,2,3]\n",
    "L2 = [\"a\" , \"b\", \"c\"]\n",
    "\n",
    "L1+L2\n",
    "\n",
    "# Repeating elements \n",
    "\n",
    "L1 = [1,\"a\",True]\n",
    "L1 * 3"
   ]
  },
  {
   "cell_type": "markdown",
   "metadata": {},
   "source": [
    "* Dictionnaire : Collection non  ordonnée de paires clés valeurs enfermés dans {}\n",
    "* Les dictionnaires sont muables, \n"
   ]
  },
  {
   "cell_type": "code",
   "execution_count": 63,
   "metadata": {},
   "outputs": [
    {
     "data": {
      "text/plain": [
       "{'Apple': 10, 'Banana': 30}"
      ]
     },
     "execution_count": 63,
     "metadata": {},
     "output_type": "execute_result"
    }
   ],
   "source": [
    "# extracting keys \n",
    "fruit = {\"apple\":50,\"banana\":30,\"orange\":40,\"ananas\":60}\n",
    "\n",
    "fruit.keys()\n",
    "\n",
    "# extracting values \n",
    "fruit = {\"apple\":50,\"banana\":30,\"orange\":40,\"ananas\":60}\n",
    "fruit.values()\n",
    "\n",
    "fruit.items()\n",
    "\n",
    "# Adding a new element \n",
    "fruit = {\"Apple\":10,\"orange\":20, \"Banana\":30}\n",
    "fruit[\"Mango\"]=50\n",
    "fruit \n",
    "# changing an existing element\n",
    "fruit = {\"apple\":10,\"banana\":20}\n",
    "fruit[\"Apple\"]=100\n",
    "\n",
    "fruit \n",
    "\n",
    "\n",
    "# Update one dictionnary's element with another \n",
    "\n",
    "\n",
    "fruit1 = {\"Apple\":10,\"Orange\":20}\n",
    "fruit2 = {\"cherry\":30,\"Banana\":40}\n",
    "\n",
    "\n",
    "fruit.update(fruit2)\n",
    "\n",
    "fruit\n",
    "\n",
    "# Popping an element (Removing)\n",
    "fruit = {\"Apple\":10,\"orange\":20,\"Banana\":30}\n",
    "\n",
    "fruit.pop(\"orange\")\n",
    "\n",
    "fruit"
   ]
  },
  {
   "cell_type": "markdown",
   "metadata": {},
   "source": [
    "* Set : Collection non  ordonnée et inindexés d'éléments enfermés dans {}\n",
    "* Il n'ya pas de sequence à proprement parlé donc l'indexation n'est pas possible dans le set (ensemble)"
   ]
  },
  {
   "cell_type": "code",
   "execution_count": 77,
   "metadata": {},
   "outputs": [
    {
     "data": {
      "text/plain": [
       "{5, 6}"
      ]
     },
     "execution_count": 77,
     "metadata": {},
     "output_type": "execute_result"
    }
   ],
   "source": [
    "s1 = {1,\"Pooda\", \"Pooda\",1}\n",
    "s1\n",
    "# comme on peut le voir les duplicates ne sont pas permis dans un set (ensemble)\n",
    "\n",
    "# Set opérations\n",
    "\n",
    "# Adding a new element \n",
    "s1 = {1,\"a\" , \"True\" , 2 , \"b\" , False }\n",
    "\n",
    "s1.add(\"Hello\")\n",
    "\n",
    "s1\n",
    "\n",
    "# updating multiple elements \n",
    "\n",
    "s1 = {1,\"a\" , \"True\" , 2 , \"b\" , False }\n",
    "s1.update([10,20,30])\n",
    "s1\n",
    "\n",
    "# removing an element\n",
    "s1 = {1, \"a\", True, 2 , \"b\" , False}\n",
    "s1.remove(\"b\")\n",
    "s1\n",
    "\n",
    "# union and intersection\n",
    "\n",
    "## union \n",
    "\n",
    "s1 = {1,2,3}\n",
    "s2 = {\"a\" , \"b\" , \"c\"} # basically concatening\n",
    "s1.union(s2)\n",
    "\n",
    "## Intersection \n",
    "s1 = {1,2,3,4,5,6}    # to find out the common elements between two (decouvrir les elements communs entre les deux)\n",
    "s2 = {5,6,7,8,9}\n",
    "\n",
    "s1.intersection(s2)\n"
   ]
  },
  {
   "cell_type": "code",
   "execution_count": 78,
   "metadata": {},
   "outputs": [
    {
     "data": {
      "text/plain": [
       "{' ?',\n",
       " ' Federal-gov',\n",
       " ' Local-gov',\n",
       " ' Never-worked',\n",
       " ' Private',\n",
       " ' Self-emp-inc',\n",
       " ' Self-emp-not-inc',\n",
       " ' State-gov',\n",
       " ' Without-pay',\n",
       " 'workclass'}"
      ]
     },
     "execution_count": 78,
     "metadata": {},
     "output_type": "execute_result"
    }
   ],
   "source": [
    "set(df['workclass'])"
   ]
  },
  {
   "cell_type": "code",
   "execution_count": 83,
   "metadata": {},
   "outputs": [
    {
     "name": "stdout",
     "output_type": "stream",
     "text": [
      "0\n",
      "1\n",
      "2\n",
      "3\n"
     ]
    }
   ],
   "source": [
    "for a , b in enumerate(\"ablo\"):\n",
    "    print(a)"
   ]
  },
  {
   "cell_type": "code",
   "execution_count": 85,
   "metadata": {},
   "outputs": [
    {
     "name": "stdout",
     "output_type": "stream",
     "text": [
      "0 workclass\n",
      "1  State-gov\n",
      "2  Self-emp-not-inc\n",
      "3  Private\n",
      "4  Federal-gov\n",
      "5  Local-gov\n",
      "6  ?\n",
      "7  Self-emp-inc\n",
      "8  Without-pay\n",
      "9  Never-worked\n"
     ]
    }
   ],
   "source": [
    "for k, v in enumerate(df['workclass'].unique()):\n",
    "    print(k,v)"
   ]
  },
  {
   "cell_type": "code",
   "execution_count": 86,
   "metadata": {},
   "outputs": [
    {
     "data": {
      "text/plain": [
       "{' Private': 0,\n",
       " ' Self-emp-not-inc': 1,\n",
       " ' State-gov': 2,\n",
       " ' Self-emp-inc': 3,\n",
       " ' Never-worked': 4,\n",
       " ' Local-gov': 5,\n",
       " ' ?': 6,\n",
       " ' Federal-gov': 7,\n",
       " ' Without-pay': 8,\n",
       " 'workclass': 9}"
      ]
     },
     "execution_count": 86,
     "metadata": {},
     "output_type": "execute_result"
    }
   ],
   "source": [
    "# d = {ni: indi for indi, ni in enumerate(set(names))}\n",
    "d = {v: k for k, v in enumerate(set(df['workclass'].unique()))}\n",
    "d"
   ]
  },
  {
   "cell_type": "code",
   "execution_count": 87,
   "metadata": {},
   "outputs": [
    {
     "data": {
      "text/plain": [
       "array(['education', ' Bachelors', ' HS-grad', ' 11th', ' Masters', ' 9th',\n",
       "       ' Some-college', ' Assoc-acdm', ' Assoc-voc', ' 7th-8th',\n",
       "       ' Doctorate', ' Prof-school', ' 5th-6th', ' 10th', ' 1st-4th',\n",
       "       ' Preschool', ' 12th'], dtype=object)"
      ]
     },
     "execution_count": 87,
     "metadata": {},
     "output_type": "execute_result"
    }
   ],
   "source": [
    "df['education'].unique()"
   ]
  },
  {
   "cell_type": "code",
   "execution_count": 88,
   "metadata": {},
   "outputs": [
    {
     "data": {
      "text/plain": [
       "{' Masters': 0,\n",
       " ' Assoc-acdm': 1,\n",
       " ' 10th': 2,\n",
       " ' 5th-6th': 3,\n",
       " ' 11th': 4,\n",
       " 'education': 5,\n",
       " ' Prof-school': 6,\n",
       " ' 9th': 7,\n",
       " ' 1st-4th': 8,\n",
       " ' Doctorate': 9,\n",
       " ' Some-college': 10,\n",
       " ' 12th': 11,\n",
       " ' HS-grad': 12,\n",
       " ' Bachelors': 13,\n",
       " ' Assoc-voc': 14,\n",
       " ' 7th-8th': 15,\n",
       " ' Preschool': 16}"
      ]
     },
     "execution_count": 88,
     "metadata": {},
     "output_type": "execute_result"
    }
   ],
   "source": [
    "# Function to Assign Numbers to Unique Values\n",
    "def generate_dict(data):\n",
    "    my_dict = {v: k for k, v in enumerate(set(data))}\n",
    "    return my_dict\n",
    "generate_dict(df['education'].unique())"
   ]
  },
  {
   "cell_type": "code",
   "execution_count": 89,
   "metadata": {},
   "outputs": [
    {
     "name": "stdout",
     "output_type": "stream",
     "text": [
      "d_workclass = generate_dict(df[\"workclass\"].unique())\n",
      "d_education = generate_dict(df[\"education\"].unique())\n",
      "d_marital-status  = generate_dict(df[\"marital-status \"].unique())\n",
      "d_occupation = generate_dict(df[\"occupation\"].unique())\n",
      "d_relationship = generate_dict(df[\"relationship\"].unique())\n",
      "d_race  = generate_dict(df[\"race \"].unique())\n",
      "d_sex  = generate_dict(df[\"sex \"].unique())\n",
      "d_native-country = generate_dict(df[\"native-country\"].unique())\n",
      "d_class = generate_dict(df[\"class\"].unique())\n"
     ]
    }
   ],
   "source": [
    "obj_list = [\"workclass\",\"education\",\"marital-status \",\"occupation\",\"relationship\",\"race \",\"sex \",\"native-country\",\"class\"]\n",
    "obj_names = [\"d_workclass\",\"d_education\",\"d_marital-status \",\"d_occupation\",\"d_relationship\",\"d_race \",\"d_sex \",\"d_native-country\",\"d_class\"]\n",
    "for i,j in zip(obj_names,obj_list):\n",
    "    print('{} = generate_dict(df[\"{}\"].unique())'.format(i,j))\n",
    "    \n",
    "    "
   ]
  },
  {
   "cell_type": "code",
   "execution_count": 90,
   "metadata": {},
   "outputs": [],
   "source": [
    "d_workclass = generate_dict(df[\"workclass\"].unique())\n",
    "d_education = generate_dict(df[\"education\"].unique())\n",
    "d_marital_status  = generate_dict(df[\"marital-status\"].unique())\n",
    "d_occupation = generate_dict(df[\"occupation\"].unique())\n",
    "d_relationship = generate_dict(df[\"relationship\"].unique())\n",
    "d_race  = generate_dict(df[\"race\"].unique())\n",
    "d_sex  = generate_dict(df[\"sex\"].unique())\n",
    "d_native_country = generate_dict(df[\"native-country\"].unique())\n",
    "d_class = generate_dict(df[\"class\"].unique())"
   ]
  },
  {
   "cell_type": "code",
   "execution_count": 91,
   "metadata": {},
   "outputs": [
    {
     "data": {
      "text/plain": [
       "{' Private': 0,\n",
       " ' Self-emp-not-inc': 1,\n",
       " ' State-gov': 2,\n",
       " ' Self-emp-inc': 3,\n",
       " ' Never-worked': 4,\n",
       " ' Local-gov': 5,\n",
       " ' ?': 6,\n",
       " ' Federal-gov': 7,\n",
       " ' Without-pay': 8,\n",
       " 'workclass': 9}"
      ]
     },
     "execution_count": 91,
     "metadata": {},
     "output_type": "execute_result"
    }
   ],
   "source": [
    "d_workclass"
   ]
  },
  {
   "cell_type": "markdown",
   "metadata": {},
   "source": [
    "# Mapping the Dataset\n",
    "+ Method 1 using map\n",
    "+ Method 2 using get_dummies"
   ]
  },
  {
   "cell_type": "code",
   "execution_count": 92,
   "metadata": {},
   "outputs": [],
   "source": [
    "df[\"workclass\"] = df[\"workclass\"].map(d_workclass)\n",
    "df[\"education\"] = df[\"education\"].map(d_education)\n",
    "df[\"marital-status\"] = df[\"marital-status\"].map(d_marital_status)\n",
    "df[\"occupation\"] = df[\"occupation\"].map(d_occupation)\n",
    "df[\"relationship\"] = df[\"relationship\"].map(d_relationship)\n",
    "df[\"race\"] = df[\"race\"].map(d_race)\n",
    "df[\"sex\"] = df[\"sex\"].map(d_sex)\n",
    "df[\"native-country\"] = df[\"native-country\"].map(d_native_country)\n",
    "df[\"class\"] = df[\"class\"].map(d_class)"
   ]
  },
  {
   "cell_type": "code",
   "execution_count": 93,
   "metadata": {},
   "outputs": [
    {
     "data": {
      "text/html": [
       "<div>\n",
       "<style scoped>\n",
       "    .dataframe tbody tr th:only-of-type {\n",
       "        vertical-align: middle;\n",
       "    }\n",
       "\n",
       "    .dataframe tbody tr th {\n",
       "        vertical-align: top;\n",
       "    }\n",
       "\n",
       "    .dataframe thead th {\n",
       "        text-align: right;\n",
       "    }\n",
       "</style>\n",
       "<table border=\"1\" class=\"dataframe\">\n",
       "  <thead>\n",
       "    <tr style=\"text-align: right;\">\n",
       "      <th></th>\n",
       "      <th>age</th>\n",
       "      <th>workclass</th>\n",
       "      <th>fnlwgt</th>\n",
       "      <th>education</th>\n",
       "      <th>education-num</th>\n",
       "      <th>marital-status</th>\n",
       "      <th>occupation</th>\n",
       "      <th>relationship</th>\n",
       "      <th>race</th>\n",
       "      <th>sex</th>\n",
       "      <th>capital-gain</th>\n",
       "      <th>capital-loss</th>\n",
       "      <th>hours-per-week</th>\n",
       "      <th>native-country</th>\n",
       "      <th>class</th>\n",
       "    </tr>\n",
       "  </thead>\n",
       "  <tbody>\n",
       "    <tr>\n",
       "      <th>NaN</th>\n",
       "      <td>age</td>\n",
       "      <td>9</td>\n",
       "      <td>fnlwgt</td>\n",
       "      <td>5</td>\n",
       "      <td>education-num</td>\n",
       "      <td>3</td>\n",
       "      <td>10</td>\n",
       "      <td>3</td>\n",
       "      <td>4</td>\n",
       "      <td>0</td>\n",
       "      <td>capital-gain</td>\n",
       "      <td>capital-loss</td>\n",
       "      <td>hours-per-week</td>\n",
       "      <td>1</td>\n",
       "      <td>1</td>\n",
       "    </tr>\n",
       "    <tr>\n",
       "      <th>0.0</th>\n",
       "      <td>39</td>\n",
       "      <td>2</td>\n",
       "      <td>77516</td>\n",
       "      <td>13</td>\n",
       "      <td>13</td>\n",
       "      <td>1</td>\n",
       "      <td>5</td>\n",
       "      <td>4</td>\n",
       "      <td>3</td>\n",
       "      <td>1</td>\n",
       "      <td>2174</td>\n",
       "      <td>0</td>\n",
       "      <td>40</td>\n",
       "      <td>22</td>\n",
       "      <td>2</td>\n",
       "    </tr>\n",
       "    <tr>\n",
       "      <th>1.0</th>\n",
       "      <td>50</td>\n",
       "      <td>1</td>\n",
       "      <td>83311</td>\n",
       "      <td>13</td>\n",
       "      <td>13</td>\n",
       "      <td>6</td>\n",
       "      <td>4</td>\n",
       "      <td>1</td>\n",
       "      <td>3</td>\n",
       "      <td>1</td>\n",
       "      <td>0</td>\n",
       "      <td>0</td>\n",
       "      <td>13</td>\n",
       "      <td>22</td>\n",
       "      <td>2</td>\n",
       "    </tr>\n",
       "    <tr>\n",
       "      <th>2.0</th>\n",
       "      <td>38</td>\n",
       "      <td>0</td>\n",
       "      <td>215646</td>\n",
       "      <td>12</td>\n",
       "      <td>9</td>\n",
       "      <td>5</td>\n",
       "      <td>12</td>\n",
       "      <td>4</td>\n",
       "      <td>3</td>\n",
       "      <td>1</td>\n",
       "      <td>0</td>\n",
       "      <td>0</td>\n",
       "      <td>40</td>\n",
       "      <td>22</td>\n",
       "      <td>2</td>\n",
       "    </tr>\n",
       "    <tr>\n",
       "      <th>3.0</th>\n",
       "      <td>53</td>\n",
       "      <td>0</td>\n",
       "      <td>234721</td>\n",
       "      <td>4</td>\n",
       "      <td>7</td>\n",
       "      <td>6</td>\n",
       "      <td>12</td>\n",
       "      <td>1</td>\n",
       "      <td>5</td>\n",
       "      <td>1</td>\n",
       "      <td>0</td>\n",
       "      <td>0</td>\n",
       "      <td>40</td>\n",
       "      <td>22</td>\n",
       "      <td>2</td>\n",
       "    </tr>\n",
       "    <tr>\n",
       "      <th>4.0</th>\n",
       "      <td>28</td>\n",
       "      <td>0</td>\n",
       "      <td>338409</td>\n",
       "      <td>13</td>\n",
       "      <td>13</td>\n",
       "      <td>6</td>\n",
       "      <td>6</td>\n",
       "      <td>2</td>\n",
       "      <td>5</td>\n",
       "      <td>2</td>\n",
       "      <td>0</td>\n",
       "      <td>0</td>\n",
       "      <td>40</td>\n",
       "      <td>15</td>\n",
       "      <td>2</td>\n",
       "    </tr>\n",
       "    <tr>\n",
       "      <th>5.0</th>\n",
       "      <td>37</td>\n",
       "      <td>0</td>\n",
       "      <td>284582</td>\n",
       "      <td>0</td>\n",
       "      <td>14</td>\n",
       "      <td>6</td>\n",
       "      <td>4</td>\n",
       "      <td>2</td>\n",
       "      <td>3</td>\n",
       "      <td>2</td>\n",
       "      <td>0</td>\n",
       "      <td>0</td>\n",
       "      <td>40</td>\n",
       "      <td>22</td>\n",
       "      <td>2</td>\n",
       "    </tr>\n",
       "    <tr>\n",
       "      <th>6.0</th>\n",
       "      <td>49</td>\n",
       "      <td>0</td>\n",
       "      <td>160187</td>\n",
       "      <td>7</td>\n",
       "      <td>5</td>\n",
       "      <td>4</td>\n",
       "      <td>14</td>\n",
       "      <td>4</td>\n",
       "      <td>5</td>\n",
       "      <td>2</td>\n",
       "      <td>0</td>\n",
       "      <td>0</td>\n",
       "      <td>16</td>\n",
       "      <td>24</td>\n",
       "      <td>2</td>\n",
       "    </tr>\n",
       "    <tr>\n",
       "      <th>7.0</th>\n",
       "      <td>52</td>\n",
       "      <td>1</td>\n",
       "      <td>209642</td>\n",
       "      <td>12</td>\n",
       "      <td>9</td>\n",
       "      <td>6</td>\n",
       "      <td>4</td>\n",
       "      <td>1</td>\n",
       "      <td>3</td>\n",
       "      <td>1</td>\n",
       "      <td>0</td>\n",
       "      <td>0</td>\n",
       "      <td>45</td>\n",
       "      <td>22</td>\n",
       "      <td>0</td>\n",
       "    </tr>\n",
       "    <tr>\n",
       "      <th>8.0</th>\n",
       "      <td>31</td>\n",
       "      <td>0</td>\n",
       "      <td>45781</td>\n",
       "      <td>0</td>\n",
       "      <td>14</td>\n",
       "      <td>1</td>\n",
       "      <td>6</td>\n",
       "      <td>4</td>\n",
       "      <td>3</td>\n",
       "      <td>2</td>\n",
       "      <td>14084</td>\n",
       "      <td>0</td>\n",
       "      <td>50</td>\n",
       "      <td>22</td>\n",
       "      <td>0</td>\n",
       "    </tr>\n",
       "  </tbody>\n",
       "</table>\n",
       "</div>"
      ],
      "text/plain": [
       "     age  workclass  fnlwgt  education  education-num  marital-status  \\\n",
       "NaN  age          9  fnlwgt          5  education-num               3   \n",
       "0.0   39          2   77516         13             13               1   \n",
       "1.0   50          1   83311         13             13               6   \n",
       "2.0   38          0  215646         12              9               5   \n",
       "3.0   53          0  234721          4              7               6   \n",
       "4.0   28          0  338409         13             13               6   \n",
       "5.0   37          0  284582          0             14               6   \n",
       "6.0   49          0  160187          7              5               4   \n",
       "7.0   52          1  209642         12              9               6   \n",
       "8.0   31          0   45781          0             14               1   \n",
       "\n",
       "     occupation  relationship  race  sex  capital-gain  capital-loss  \\\n",
       "NaN          10             3     4    0  capital-gain  capital-loss   \n",
       "0.0           5             4     3    1          2174             0   \n",
       "1.0           4             1     3    1             0             0   \n",
       "2.0          12             4     3    1             0             0   \n",
       "3.0          12             1     5    1             0             0   \n",
       "4.0           6             2     5    2             0             0   \n",
       "5.0           4             2     3    2             0             0   \n",
       "6.0          14             4     5    2             0             0   \n",
       "7.0           4             1     3    1             0             0   \n",
       "8.0           6             4     3    2         14084             0   \n",
       "\n",
       "     hours-per-week  native-country  class  \n",
       "NaN  hours-per-week               1      1  \n",
       "0.0              40              22      2  \n",
       "1.0              13              22      2  \n",
       "2.0              40              22      2  \n",
       "3.0              40              22      2  \n",
       "4.0              40              15      2  \n",
       "5.0              40              22      2  \n",
       "6.0              16              24      2  \n",
       "7.0              45              22      0  \n",
       "8.0              50              22      0  "
      ]
     },
     "execution_count": 93,
     "metadata": {},
     "output_type": "execute_result"
    }
   ],
   "source": [
    "df.head(10)"
   ]
  },
  {
   "cell_type": "code",
   "execution_count": 99,
   "metadata": {},
   "outputs": [],
   "source": [
    " # save preprocessing data output \n",
    "\n",
    "df.to_csv(ADULT_DATA_SALARY_PREPROCESSED_CSV_PATH)\n"
   ]
  }
 ],
 "metadata": {
  "kernelspec": {
   "display_name": "venv",
   "language": "python",
   "name": "python3"
  },
  "language_info": {
   "codemirror_mode": {
    "name": "ipython",
    "version": 3
   },
   "file_extension": ".py",
   "mimetype": "text/x-python",
   "name": "python",
   "nbconvert_exporter": "python",
   "pygments_lexer": "ipython3",
   "version": "3.11.7"
  }
 },
 "nbformat": 4,
 "nbformat_minor": 2
}
